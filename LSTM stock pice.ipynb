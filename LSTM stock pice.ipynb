{
 "cells": [
  {
   "cell_type": "code",
   "execution_count": 1,
   "metadata": {},
   "outputs": [],
   "source": [
    "import numpy as np\n",
    "import pandas as pd\n",
    "from sklearn.preprocessing import MinMaxScaler\n",
    "import yfinance as yf\n",
    "import matplotlib.pyplot as plt"
   ]
  },
  {
   "cell_type": "code",
   "execution_count": 8,
   "metadata": {},
   "outputs": [
    {
     "data": {
      "text/html": [
       "<div>\n",
       "<style scoped>\n",
       "    .dataframe tbody tr th:only-of-type {\n",
       "        vertical-align: middle;\n",
       "    }\n",
       "\n",
       "    .dataframe tbody tr th {\n",
       "        vertical-align: top;\n",
       "    }\n",
       "\n",
       "    .dataframe thead th {\n",
       "        text-align: right;\n",
       "    }\n",
       "</style>\n",
       "<table border=\"1\" class=\"dataframe\">\n",
       "  <thead>\n",
       "    <tr style=\"text-align: right;\">\n",
       "      <th></th>\n",
       "      <th>Open</th>\n",
       "      <th>High</th>\n",
       "      <th>Low</th>\n",
       "      <th>Close</th>\n",
       "      <th>Volume</th>\n",
       "    </tr>\n",
       "    <tr>\n",
       "      <th>Date</th>\n",
       "      <th></th>\n",
       "      <th></th>\n",
       "      <th></th>\n",
       "      <th></th>\n",
       "      <th></th>\n",
       "    </tr>\n",
       "  </thead>\n",
       "  <tbody>\n",
       "    <tr>\n",
       "      <th>2004-08-19</th>\n",
       "      <td>50.050049</td>\n",
       "      <td>52.082081</td>\n",
       "      <td>48.028027</td>\n",
       "      <td>50.220219</td>\n",
       "      <td>44659096</td>\n",
       "    </tr>\n",
       "    <tr>\n",
       "      <th>2004-08-20</th>\n",
       "      <td>50.555557</td>\n",
       "      <td>54.594597</td>\n",
       "      <td>50.300301</td>\n",
       "      <td>54.209209</td>\n",
       "      <td>22834343</td>\n",
       "    </tr>\n",
       "    <tr>\n",
       "      <th>2004-08-23</th>\n",
       "      <td>55.430431</td>\n",
       "      <td>56.796799</td>\n",
       "      <td>54.579578</td>\n",
       "      <td>54.754753</td>\n",
       "      <td>18256126</td>\n",
       "    </tr>\n",
       "    <tr>\n",
       "      <th>2004-08-24</th>\n",
       "      <td>55.675674</td>\n",
       "      <td>55.855858</td>\n",
       "      <td>51.836838</td>\n",
       "      <td>52.487488</td>\n",
       "      <td>15247337</td>\n",
       "    </tr>\n",
       "    <tr>\n",
       "      <th>2004-08-25</th>\n",
       "      <td>52.532532</td>\n",
       "      <td>54.054054</td>\n",
       "      <td>51.991993</td>\n",
       "      <td>53.053055</td>\n",
       "      <td>9188602</td>\n",
       "    </tr>\n",
       "    <tr>\n",
       "      <th>...</th>\n",
       "      <td>...</td>\n",
       "      <td>...</td>\n",
       "      <td>...</td>\n",
       "      <td>...</td>\n",
       "      <td>...</td>\n",
       "    </tr>\n",
       "    <tr>\n",
       "      <th>2022-05-24</th>\n",
       "      <td>2115.439941</td>\n",
       "      <td>2129.169922</td>\n",
       "      <td>2037.689941</td>\n",
       "      <td>2119.399902</td>\n",
       "      <td>3839000</td>\n",
       "    </tr>\n",
       "    <tr>\n",
       "      <th>2022-05-25</th>\n",
       "      <td>2099.709961</td>\n",
       "      <td>2130.000000</td>\n",
       "      <td>2077.129883</td>\n",
       "      <td>2116.100098</td>\n",
       "      <td>2012900</td>\n",
       "    </tr>\n",
       "    <tr>\n",
       "      <th>2022-05-26</th>\n",
       "      <td>2113.540039</td>\n",
       "      <td>2172.989990</td>\n",
       "      <td>2104.500000</td>\n",
       "      <td>2155.850098</td>\n",
       "      <td>1897400</td>\n",
       "    </tr>\n",
       "    <tr>\n",
       "      <th>2022-05-27</th>\n",
       "      <td>2189.659912</td>\n",
       "      <td>2246.360107</td>\n",
       "      <td>2182.770020</td>\n",
       "      <td>2246.330078</td>\n",
       "      <td>1893200</td>\n",
       "    </tr>\n",
       "    <tr>\n",
       "      <th>2022-05-31</th>\n",
       "      <td>2254.929932</td>\n",
       "      <td>2306.810059</td>\n",
       "      <td>2241.679932</td>\n",
       "      <td>2288.139893</td>\n",
       "      <td>1049650</td>\n",
       "    </tr>\n",
       "  </tbody>\n",
       "</table>\n",
       "<p>4477 rows × 5 columns</p>\n",
       "</div>"
      ],
      "text/plain": [
       "                   Open         High          Low        Close    Volume\n",
       "Date                                                                    \n",
       "2004-08-19    50.050049    52.082081    48.028027    50.220219  44659096\n",
       "2004-08-20    50.555557    54.594597    50.300301    54.209209  22834343\n",
       "2004-08-23    55.430431    56.796799    54.579578    54.754753  18256126\n",
       "2004-08-24    55.675674    55.855858    51.836838    52.487488  15247337\n",
       "2004-08-25    52.532532    54.054054    51.991993    53.053055   9188602\n",
       "...                 ...          ...          ...          ...       ...\n",
       "2022-05-24  2115.439941  2129.169922  2037.689941  2119.399902   3839000\n",
       "2022-05-25  2099.709961  2130.000000  2077.129883  2116.100098   2012900\n",
       "2022-05-26  2113.540039  2172.989990  2104.500000  2155.850098   1897400\n",
       "2022-05-27  2189.659912  2246.360107  2182.770020  2246.330078   1893200\n",
       "2022-05-31  2254.929932  2306.810059  2241.679932  2288.139893   1049650\n",
       "\n",
       "[4477 rows x 5 columns]"
      ]
     },
     "execution_count": 8,
     "metadata": {},
     "output_type": "execute_result"
    }
   ],
   "source": [
    "GOOGL = yf.Ticker('GOOGL')\n",
    "df = GOOGL.history(start='2004-08-19',proxy=\"127.0.0.1:6152\")\n",
    "df.drop(columns=['Dividends','Stock Splits'],inplace=True)\n",
    "df"
   ]
  },
  {
   "cell_type": "code",
   "execution_count": null,
   "metadata": {},
   "outputs": [],
   "source": []
  },
  {
   "cell_type": "code",
   "execution_count": 3,
   "metadata": {},
   "outputs": [],
   "source": [
    "def create_dataset(data, time_steps):\n",
    "    dataX, dataY = [], []\n",
    "    for i in range(len(data) - time_steps):\n",
    "        a = data[i:(i + time_steps), 0]\n",
    "        dataX.append(a)\n",
    "        dataY.append(data[i + time_steps, 0])\n",
    "    return np.array(dataX), np.array(dataY)"
   ]
  },
  {
   "cell_type": "code",
   "execution_count": 4,
   "metadata": {},
   "outputs": [
    {
     "data": {
      "text/plain": [
       "array([[5.60505340e-05],\n",
       "       [1.40975825e-03],\n",
       "       [1.59489447e-03],\n",
       "       ...,\n",
       "       [9.50229352e-01],\n",
       "       [9.46380969e-01],\n",
       "       [9.26894890e-01]])"
      ]
     },
     "execution_count": 4,
     "metadata": {},
     "output_type": "execute_result"
    }
   ],
   "source": [
    "data=np.array(df['Close']).reshape(-1,1)\n",
    "scaler = MinMaxScaler(feature_range=(0,1))\n",
    "data=scaler.fit_transform(data)\n",
    "data"
   ]
  },
  {
   "cell_type": "code",
   "execution_count": 5,
   "metadata": {},
   "outputs": [
    {
     "data": {
      "text/plain": [
       "((3992, 1), (444, 1))"
      ]
     },
     "execution_count": 5,
     "metadata": {},
     "output_type": "execute_result"
    }
   ],
   "source": [
    "train_size = int(len(data)*0.9)\n",
    "test_size = len(data)-train_size\n",
    "train, test = data[0:train_size,:], data[train_size:,:]\n",
    "train.shape, test.shape"
   ]
  },
  {
   "cell_type": "code",
   "execution_count": 12,
   "metadata": {},
   "outputs": [],
   "source": [
    "time_steps = 10\n",
    "X_train, y_train = create_dataset(train, time_steps)\n",
    "X_test, y_test = create_dataset(test, time_steps)\n",
    "X_train = X_train.reshape((X_train.shape[0],X_train.shape[1],1))\n",
    "X_test = X_test.reshape((X_test.shape[0],X_train.shape[1],1))"
   ]
  },
  {
   "cell_type": "code",
   "execution_count": 13,
   "metadata": {},
   "outputs": [],
   "source": [
    "from keras.models import Sequential\n",
    "from keras.layers import Dense\n",
    "from keras.layers import LSTM"
   ]
  },
  {
   "cell_type": "code",
   "execution_count": 14,
   "metadata": {},
   "outputs": [
    {
     "name": "stdout",
     "output_type": "stream",
     "text": [
      "Model: \"sequential_1\"\n",
      "_________________________________________________________________\n",
      " Layer (type)                Output Shape              Param #   \n",
      "=================================================================\n",
      " lstm_1 (LSTM)               (None, 128)               66560     \n",
      "                                                                 \n",
      " dense_1 (Dense)             (None, 1)                 129       \n",
      "                                                                 \n",
      "=================================================================\n",
      "Total params: 66,689\n",
      "Trainable params: 66,689\n",
      "Non-trainable params: 0\n",
      "_________________________________________________________________\n"
     ]
    }
   ],
   "source": [
    "# params = (hidden size × (hidden size + x_dim) + hidden size) × 4\n",
    "# hidden size = 128\n",
    "# x_dim = 1\n",
    "\n",
    "model = Sequential()\n",
    "model.add(LSTM(128, input_shape=(time_steps, 1)))\n",
    "model.add(Dense(1))\n",
    "model.compile(loss='mean_squared_error', optimizer='adam', metrics=['accuracy'])\n",
    "model.summary()"
   ]
  },
  {
   "cell_type": "code",
   "execution_count": 15,
   "metadata": {},
   "outputs": [
    {
     "name": "stdout",
     "output_type": "stream",
     "text": [
      "Epoch 1/100\n",
      "63/63 [==============================] - 1s 7ms/step - loss: 0.0040 - accuracy: 2.5113e-04\n",
      "Epoch 2/100\n",
      "63/63 [==============================] - 0s 7ms/step - loss: 5.5761e-05 - accuracy: 2.5113e-04\n",
      "Epoch 3/100\n",
      "63/63 [==============================] - 0s 7ms/step - loss: 5.2824e-05 - accuracy: 2.5113e-04\n",
      "Epoch 4/100\n",
      "63/63 [==============================] - 0s 7ms/step - loss: 5.0239e-05 - accuracy: 2.5113e-04\n",
      "Epoch 5/100\n",
      "63/63 [==============================] - 0s 7ms/step - loss: 4.7769e-05 - accuracy: 2.5113e-04\n",
      "Epoch 6/100\n",
      "63/63 [==============================] - 0s 7ms/step - loss: 4.7420e-05 - accuracy: 2.5113e-04\n",
      "Epoch 7/100\n",
      "63/63 [==============================] - 0s 7ms/step - loss: 4.8364e-05 - accuracy: 2.5113e-04\n",
      "Epoch 8/100\n",
      "63/63 [==============================] - 0s 7ms/step - loss: 4.9179e-05 - accuracy: 2.5113e-04\n",
      "Epoch 9/100\n",
      "63/63 [==============================] - 0s 7ms/step - loss: 4.6941e-05 - accuracy: 2.5113e-04\n",
      "Epoch 10/100\n",
      "63/63 [==============================] - 0s 7ms/step - loss: 4.5921e-05 - accuracy: 2.5113e-04\n",
      "Epoch 11/100\n",
      "63/63 [==============================] - 0s 8ms/step - loss: 4.6120e-05 - accuracy: 2.5113e-04\n",
      "Epoch 12/100\n",
      "63/63 [==============================] - 0s 7ms/step - loss: 4.4790e-05 - accuracy: 2.5113e-04\n",
      "Epoch 13/100\n",
      "63/63 [==============================] - 0s 8ms/step - loss: 4.3805e-05 - accuracy: 2.5113e-04\n",
      "Epoch 14/100\n",
      "63/63 [==============================] - 0s 7ms/step - loss: 4.5351e-05 - accuracy: 2.5113e-04\n",
      "Epoch 15/100\n",
      "63/63 [==============================] - 0s 7ms/step - loss: 4.4473e-05 - accuracy: 2.5113e-04\n",
      "Epoch 16/100\n",
      "63/63 [==============================] - 0s 7ms/step - loss: 4.3804e-05 - accuracy: 2.5113e-04\n",
      "Epoch 17/100\n",
      "63/63 [==============================] - 0s 7ms/step - loss: 4.1298e-05 - accuracy: 2.5113e-04\n",
      "Epoch 18/100\n",
      "63/63 [==============================] - 0s 7ms/step - loss: 4.1217e-05 - accuracy: 2.5113e-04\n",
      "Epoch 19/100\n",
      "63/63 [==============================] - 0s 7ms/step - loss: 4.1578e-05 - accuracy: 2.5113e-04\n",
      "Epoch 20/100\n",
      "63/63 [==============================] - 0s 7ms/step - loss: 4.0274e-05 - accuracy: 2.5113e-04\n",
      "Epoch 21/100\n",
      "63/63 [==============================] - 0s 7ms/step - loss: 4.4279e-05 - accuracy: 2.5113e-04\n",
      "Epoch 22/100\n",
      "63/63 [==============================] - 0s 7ms/step - loss: 3.9520e-05 - accuracy: 2.5113e-04\n",
      "Epoch 23/100\n",
      "63/63 [==============================] - 0s 7ms/step - loss: 3.9697e-05 - accuracy: 2.5113e-04\n",
      "Epoch 24/100\n",
      "63/63 [==============================] - 0s 7ms/step - loss: 4.1256e-05 - accuracy: 2.5113e-04\n",
      "Epoch 25/100\n",
      "63/63 [==============================] - 0s 7ms/step - loss: 3.9501e-05 - accuracy: 2.5113e-04\n",
      "Epoch 26/100\n",
      "63/63 [==============================] - 0s 7ms/step - loss: 3.9544e-05 - accuracy: 2.5113e-04\n",
      "Epoch 27/100\n",
      "63/63 [==============================] - 0s 7ms/step - loss: 4.0608e-05 - accuracy: 2.5113e-04\n",
      "Epoch 28/100\n",
      "63/63 [==============================] - 0s 7ms/step - loss: 4.3192e-05 - accuracy: 2.5113e-04\n",
      "Epoch 29/100\n",
      "63/63 [==============================] - 0s 7ms/step - loss: 3.7389e-05 - accuracy: 2.5113e-04\n",
      "Epoch 30/100\n",
      "63/63 [==============================] - 0s 7ms/step - loss: 3.9340e-05 - accuracy: 2.5113e-04\n",
      "Epoch 31/100\n",
      "63/63 [==============================] - 0s 7ms/step - loss: 4.0369e-05 - accuracy: 2.5113e-04\n",
      "Epoch 32/100\n",
      "63/63 [==============================] - 0s 7ms/step - loss: 3.4217e-05 - accuracy: 2.5113e-04\n",
      "Epoch 33/100\n",
      "63/63 [==============================] - 0s 7ms/step - loss: 3.4206e-05 - accuracy: 2.5113e-04\n",
      "Epoch 34/100\n",
      "63/63 [==============================] - 0s 7ms/step - loss: 3.9412e-05 - accuracy: 2.5113e-04\n",
      "Epoch 35/100\n",
      "63/63 [==============================] - 0s 7ms/step - loss: 3.7036e-05 - accuracy: 2.5113e-04\n",
      "Epoch 36/100\n",
      "63/63 [==============================] - 0s 7ms/step - loss: 3.4936e-05 - accuracy: 2.5113e-04\n",
      "Epoch 37/100\n",
      "63/63 [==============================] - 0s 7ms/step - loss: 3.2004e-05 - accuracy: 2.5113e-04\n",
      "Epoch 38/100\n",
      "63/63 [==============================] - 0s 7ms/step - loss: 3.4580e-05 - accuracy: 2.5113e-04\n",
      "Epoch 39/100\n",
      "63/63 [==============================] - 0s 7ms/step - loss: 3.1663e-05 - accuracy: 2.5113e-04\n",
      "Epoch 40/100\n",
      "63/63 [==============================] - 0s 7ms/step - loss: 3.1167e-05 - accuracy: 2.5113e-04\n",
      "Epoch 41/100\n",
      "63/63 [==============================] - 0s 7ms/step - loss: 3.2356e-05 - accuracy: 2.5113e-04\n",
      "Epoch 42/100\n",
      "63/63 [==============================] - 0s 7ms/step - loss: 3.1728e-05 - accuracy: 2.5113e-04\n",
      "Epoch 43/100\n",
      "63/63 [==============================] - 0s 7ms/step - loss: 3.3945e-05 - accuracy: 2.5113e-04\n",
      "Epoch 44/100\n",
      "63/63 [==============================] - 0s 7ms/step - loss: 3.1237e-05 - accuracy: 2.5113e-04\n",
      "Epoch 45/100\n",
      "63/63 [==============================] - 0s 7ms/step - loss: 3.2176e-05 - accuracy: 2.5113e-04\n",
      "Epoch 46/100\n",
      "63/63 [==============================] - 0s 7ms/step - loss: 2.9927e-05 - accuracy: 2.5113e-04\n",
      "Epoch 47/100\n",
      "63/63 [==============================] - 0s 7ms/step - loss: 2.7905e-05 - accuracy: 2.5113e-04\n",
      "Epoch 48/100\n",
      "63/63 [==============================] - 0s 7ms/step - loss: 3.0042e-05 - accuracy: 2.5113e-04\n",
      "Epoch 49/100\n",
      "63/63 [==============================] - 0s 7ms/step - loss: 2.9287e-05 - accuracy: 2.5113e-04\n",
      "Epoch 50/100\n",
      "63/63 [==============================] - 0s 7ms/step - loss: 2.7366e-05 - accuracy: 2.5113e-04\n",
      "Epoch 51/100\n",
      "63/63 [==============================] - 0s 7ms/step - loss: 2.8307e-05 - accuracy: 2.5113e-04\n",
      "Epoch 52/100\n",
      "63/63 [==============================] - 0s 7ms/step - loss: 3.0258e-05 - accuracy: 2.5113e-04\n",
      "Epoch 53/100\n",
      "63/63 [==============================] - 0s 7ms/step - loss: 3.0711e-05 - accuracy: 2.5113e-04\n",
      "Epoch 54/100\n",
      "63/63 [==============================] - 0s 7ms/step - loss: 2.6395e-05 - accuracy: 2.5113e-04\n",
      "Epoch 55/100\n",
      "63/63 [==============================] - 0s 7ms/step - loss: 2.9083e-05 - accuracy: 2.5113e-04\n",
      "Epoch 56/100\n",
      "63/63 [==============================] - 0s 7ms/step - loss: 2.5610e-05 - accuracy: 2.5113e-04\n",
      "Epoch 57/100\n",
      "63/63 [==============================] - 0s 7ms/step - loss: 3.0851e-05 - accuracy: 2.5113e-04\n",
      "Epoch 58/100\n",
      "63/63 [==============================] - 0s 7ms/step - loss: 2.6198e-05 - accuracy: 2.5113e-04\n",
      "Epoch 59/100\n",
      "63/63 [==============================] - 0s 7ms/step - loss: 2.5347e-05 - accuracy: 2.5113e-04\n",
      "Epoch 60/100\n",
      "63/63 [==============================] - 0s 7ms/step - loss: 2.7554e-05 - accuracy: 2.5113e-04\n",
      "Epoch 61/100\n",
      "63/63 [==============================] - 0s 7ms/step - loss: 2.3783e-05 - accuracy: 2.5113e-04\n",
      "Epoch 62/100\n",
      "63/63 [==============================] - 0s 7ms/step - loss: 3.1650e-05 - accuracy: 2.5113e-04\n",
      "Epoch 63/100\n",
      "63/63 [==============================] - 0s 7ms/step - loss: 2.4872e-05 - accuracy: 2.5113e-04\n",
      "Epoch 64/100\n",
      "63/63 [==============================] - 0s 7ms/step - loss: 2.4983e-05 - accuracy: 2.5113e-04\n",
      "Epoch 65/100\n",
      "63/63 [==============================] - 0s 7ms/step - loss: 2.3501e-05 - accuracy: 2.5113e-04\n",
      "Epoch 66/100\n",
      "63/63 [==============================] - 0s 7ms/step - loss: 2.3841e-05 - accuracy: 2.5113e-04\n",
      "Epoch 67/100\n",
      "63/63 [==============================] - 0s 7ms/step - loss: 2.3836e-05 - accuracy: 2.5113e-04\n",
      "Epoch 68/100\n",
      "63/63 [==============================] - 0s 7ms/step - loss: 2.1901e-05 - accuracy: 2.5113e-04\n",
      "Epoch 69/100\n",
      "63/63 [==============================] - 0s 7ms/step - loss: 2.2278e-05 - accuracy: 2.5113e-04\n",
      "Epoch 70/100\n",
      "63/63 [==============================] - 0s 7ms/step - loss: 2.3054e-05 - accuracy: 2.5113e-04\n",
      "Epoch 71/100\n",
      "63/63 [==============================] - 0s 7ms/step - loss: 2.3018e-05 - accuracy: 2.5113e-04\n",
      "Epoch 72/100\n",
      "63/63 [==============================] - 0s 7ms/step - loss: 3.0488e-05 - accuracy: 2.5113e-04\n",
      "Epoch 73/100\n",
      "63/63 [==============================] - 0s 7ms/step - loss: 2.1127e-05 - accuracy: 2.5113e-04\n",
      "Epoch 74/100\n",
      "63/63 [==============================] - 0s 7ms/step - loss: 2.2313e-05 - accuracy: 2.5113e-04\n",
      "Epoch 75/100\n",
      "63/63 [==============================] - 0s 7ms/step - loss: 2.1136e-05 - accuracy: 2.5113e-04\n",
      "Epoch 76/100\n",
      "63/63 [==============================] - 0s 7ms/step - loss: 2.0287e-05 - accuracy: 2.5113e-04\n",
      "Epoch 77/100\n",
      "63/63 [==============================] - 0s 7ms/step - loss: 2.1376e-05 - accuracy: 2.5113e-04\n",
      "Epoch 78/100\n",
      "63/63 [==============================] - 0s 7ms/step - loss: 2.4736e-05 - accuracy: 2.5113e-04\n",
      "Epoch 79/100\n",
      "63/63 [==============================] - 0s 7ms/step - loss: 2.1514e-05 - accuracy: 2.5113e-04\n",
      "Epoch 80/100\n",
      "63/63 [==============================] - 0s 7ms/step - loss: 1.9995e-05 - accuracy: 2.5113e-04\n",
      "Epoch 81/100\n",
      "63/63 [==============================] - 0s 7ms/step - loss: 1.9505e-05 - accuracy: 2.5113e-04\n",
      "Epoch 82/100\n",
      "63/63 [==============================] - 0s 7ms/step - loss: 2.0198e-05 - accuracy: 2.5113e-04\n",
      "Epoch 83/100\n",
      "63/63 [==============================] - 0s 7ms/step - loss: 2.6859e-05 - accuracy: 2.5113e-04\n",
      "Epoch 84/100\n",
      "63/63 [==============================] - 0s 7ms/step - loss: 1.9034e-05 - accuracy: 2.5113e-04\n",
      "Epoch 85/100\n",
      "63/63 [==============================] - 0s 7ms/step - loss: 1.9200e-05 - accuracy: 2.5113e-04\n",
      "Epoch 86/100\n",
      "63/63 [==============================] - 0s 7ms/step - loss: 2.1025e-05 - accuracy: 2.5113e-04\n",
      "Epoch 87/100\n",
      "63/63 [==============================] - 0s 7ms/step - loss: 2.0535e-05 - accuracy: 2.5113e-04\n",
      "Epoch 88/100\n",
      "63/63 [==============================] - 0s 7ms/step - loss: 2.0518e-05 - accuracy: 2.5113e-04\n",
      "Epoch 89/100\n",
      "63/63 [==============================] - 0s 7ms/step - loss: 1.8610e-05 - accuracy: 2.5113e-04\n",
      "Epoch 90/100\n",
      "63/63 [==============================] - 0s 7ms/step - loss: 1.9628e-05 - accuracy: 2.5113e-04\n",
      "Epoch 91/100\n",
      "63/63 [==============================] - 0s 7ms/step - loss: 2.0725e-05 - accuracy: 2.5113e-04\n",
      "Epoch 92/100\n",
      "63/63 [==============================] - 0s 7ms/step - loss: 1.8026e-05 - accuracy: 2.5113e-04\n",
      "Epoch 93/100\n",
      "63/63 [==============================] - 0s 7ms/step - loss: 1.8464e-05 - accuracy: 2.5113e-04\n",
      "Epoch 94/100\n",
      "63/63 [==============================] - 0s 7ms/step - loss: 2.0613e-05 - accuracy: 2.5113e-04\n",
      "Epoch 95/100\n",
      "63/63 [==============================] - 0s 7ms/step - loss: 2.0608e-05 - accuracy: 2.5113e-04\n",
      "Epoch 96/100\n",
      "63/63 [==============================] - 0s 7ms/step - loss: 1.8899e-05 - accuracy: 2.5113e-04\n",
      "Epoch 97/100\n",
      "63/63 [==============================] - 0s 7ms/step - loss: 1.7793e-05 - accuracy: 2.5113e-04\n",
      "Epoch 98/100\n",
      "63/63 [==============================] - 0s 7ms/step - loss: 1.8154e-05 - accuracy: 2.5113e-04\n",
      "Epoch 99/100\n",
      "63/63 [==============================] - 0s 7ms/step - loss: 1.7454e-05 - accuracy: 2.5113e-04\n",
      "Epoch 100/100\n",
      "63/63 [==============================] - 0s 7ms/step - loss: 1.8480e-05 - accuracy: 2.5113e-04\n",
      "63/63 [==============================] - 1s 3ms/step - loss: 1.6570e-05 - accuracy: 2.5113e-04\n"
     ]
    }
   ],
   "source": [
    "history = model.fit(X_train, y_train, epochs=100, batch_size=64, verbose=1)\n",
    "score = model.evaluate(X_train, y_train, batch_size=64, verbose=1)"
   ]
  },
  {
   "cell_type": "code",
   "execution_count": 16,
   "metadata": {},
   "outputs": [
    {
     "data": {
      "image/png": "[encoded data removed]",
      "text/plain": [
       "<Figure size 432x288 with 1 Axes>"
      ]
     },
     "metadata": {
      "needs_background": "light"
     },
     "output_type": "display_data"
    }
   ],
   "source": [
    "def visualize_loss(history, title):\n",
    "    loss = history.history[\"loss\"]\n",
    "    epochs = range(len(loss))\n",
    "    plt.figure()\n",
    "    plt.plot(epochs, loss, \"b\", label=\"Training loss\")\n",
    "    plt.title(title)\n",
    "    plt.xlabel(\"Epochs\")\n",
    "    plt.ylabel(\"Loss\")\n",
    "    plt.legend()\n",
    "    plt.show()\n",
    "\n",
    "visualize_loss(history, \"Training Loss\")\n"
   ]
  },
  {
   "cell_type": "code",
   "execution_count": 17,
   "metadata": {},
   "outputs": [],
   "source": [
    "trainPredict = model.predict(X_train)\n",
    "testPredict = model.predict(X_test)\n",
    "\n",
    "trainPredict = scaler.inverse_transform(trainPredict)\n",
    "trainY = scaler.inverse_transform([y_train])\n",
    "testPredict = scaler.inverse_transform(testPredict)\n",
    "testY = scaler.inverse_transform([y_test])"
   ]
  },
  {
   "cell_type": "code",
   "execution_count": 18,
   "metadata": {},
   "outputs": [
    {
     "data": {
      "text/plain": [
       "[<matplotlib.lines.Line2D at 0x286cf6d00>]"
      ]
     },
     "execution_count": 18,
     "metadata": {},
     "output_type": "execute_result"
    },
    {
     "data": {
      "image/png": "[encoded data removed]",
      "text/plain": [
       "<Figure size 720x360 with 1 Axes>"
      ]
     },
     "metadata": {
      "needs_background": "light"
     },
     "output_type": "display_data"
    }
   ],
   "source": [
    "plt.figure(figsize=(10,5))\n",
    "trainY=trainY.reshape(-1,1)\n",
    "plt.plot(trainPredict)\n",
    "plt.plot(trainY)"
   ]
  },
  {
   "cell_type": "code",
   "execution_count": 19,
   "metadata": {},
   "outputs": [
    {
     "data": {
      "text/plain": [
       "[<matplotlib.lines.Line2D at 0x286da7df0>]"
      ]
     },
     "execution_count": 19,
     "metadata": {},
     "output_type": "execute_result"
    },
    {
     "data": {
      "image/png": "[encoded data removed]",
      "text/plain": [
       "<Figure size 720x360 with 1 Axes>"
      ]
     },
     "metadata": {
      "needs_background": "light"
     },
     "output_type": "display_data"
    }
   ],
   "source": [
    "plt.figure(figsize=(10,5))\n",
    "testY=testY.reshape(-1,1)\n",
    "plt.plot(testY)\n",
    "plt.plot(testPredict)"
   ]
  }
 ],
 "metadata": {
  "interpreter": {
   "hash": "8b027f683e19d78b27f3a066295e9d20c15df7044c54ff64fda32a2fbf691de1"
  },
  "kernelspec": {
   "display_name": "Python 3 (ipykernel)",
   "language": "python",
   "name": "python3"
  },
  "language_info": {
   "codemirror_mode": {
    "name": "ipython",
    "version": 3
   },
   "file_extension": ".py",
   "mimetype": "text/x-python",
   "name": "python",
   "nbconvert_exporter": "python",
   "pygments_lexer": "ipython3",
   "version": "3.9.12"
  }
 },
 "nbformat": 4,
 "nbformat_minor": 2
}
